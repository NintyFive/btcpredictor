{
 "cells": [
  {
   "cell_type": "code",
   "execution_count": 1,
   "id": "ef175190",
   "metadata": {},
   "outputs": [],
   "source": [
    "import requests\n",
    "from bs4 import BeautifulSoup\n",
    "from reporter import *\n",
    "import time"
   ]
  },
  {
   "cell_type": "code",
   "execution_count": 2,
   "id": "e9f09e9d",
   "metadata": {},
   "outputs": [],
   "source": [
    "url = \"https://www.blockchain.com/btc/address/1P5ZEDWTKTFGxQjZphgWPQUpe554WKDfHQ\"\n",
    "reqst = requests.get(url)"
   ]
  },
  {
   "cell_type": "code",
   "execution_count": 4,
   "id": "4b4ea24b",
   "metadata": {},
   "outputs": [
    {
     "name": "stdout",
     "output_type": "stream",
     "text": [
      "2021-07-29 19:45\n",
      "+0.00099029 BTC\n"
     ]
    }
   ],
   "source": [
    "last_time = \"\"\n",
    "current_time = \"\"\n",
    "while(1):\n",
    "    reqst = requests.get(url)\n",
    "    page = reqst.content\n",
    "    \n",
    "    soup = BeautifulSoup(page, 'html.parser')\n",
    "    current_time = soup.find('div', class_ = \"kad8ah-0 fjudWa\").text\n",
    "    \n",
    "    amount = soup.find('div', class_ = \"kad8ah-0 drlFvR\").text\n",
    "    \n",
    "    current_time = soup.find('div', class_ = \"kad8ah-0 fjudWa\").text\n",
    "    if current_time != last_time:\n",
    "        print(current_time)\n",
    "        print(amount)\n",
    "        Reporter.send_email('New move: '+amount+' ', current_time)\n",
    "        break\n",
    "    last_time = current_time\n",
    "    time.sleep(60*10)"
   ]
  },
  {
   "cell_type": "code",
   "execution_count": 5,
   "id": "73b610bc",
   "metadata": {},
   "outputs": [
    {
     "data": {
      "text/plain": [
       "'+0.00099029 BTC'"
      ]
     },
     "execution_count": 5,
     "metadata": {},
     "output_type": "execute_result"
    }
   ],
   "source": [
    "#soup.find('div', class_ = \"kad8ah-0 fjudWa\").text\n",
    "#soup.find('div', class_ = \"kad8ah-0 drlFvR\").text"
   ]
  }
 ],
 "metadata": {
  "kernelspec": {
   "display_name": "venv",
   "language": "python",
   "name": "venv"
  },
  "language_info": {
   "codemirror_mode": {
    "name": "ipython",
    "version": 3
   },
   "file_extension": ".py",
   "mimetype": "text/x-python",
   "name": "python",
   "nbconvert_exporter": "python",
   "pygments_lexer": "ipython3",
   "version": "3.8.6"
  }
 },
 "nbformat": 4,
 "nbformat_minor": 5
}
