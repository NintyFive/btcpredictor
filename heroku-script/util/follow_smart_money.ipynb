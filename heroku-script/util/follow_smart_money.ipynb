{
 "cells": [
  {
   "cell_type": "code",
   "execution_count": 1,
   "id": "10b07193",
   "metadata": {},
   "outputs": [],
   "source": [
    "import requests\n",
    "from bs4 import BeautifulSoup"
   ]
  },
  {
   "cell_type": "code",
   "execution_count": 4,
   "id": "4dc47c55",
   "metadata": {},
   "outputs": [],
   "source": [
    "url = \"https://www.blockchain.com/btc/address/1P5ZEDWTKTFGxQjZphgWPQUpe554WKDfHQ\"\n",
    "reqst = requests.get(url)"
   ]
  },
  {
   "cell_type": "code",
   "execution_count": null,
   "id": "d2e3f83d",
   "metadata": {},
   "outputs": [],
   "source": [
    "last_time = \"\"\n",
    "current_time = \"\"\n",
    "while(1):\n",
    "    reqst = requests.get(url)\n",
    "    page = reqst.content\n",
    "    \n",
    "    soup = BeautifulSoup(page, 'html.parser')\n",
    "    current_time = soup.find('div', class_ = \"kad8ah-0 fjudWa\").text\n",
    "    "
   ]
  },
  {
   "cell_type": "code",
   "execution_count": 7,
   "id": "8845173c",
   "metadata": {},
   "outputs": [],
   "source": [
    "page = reqst.content"
   ]
  },
  {
   "cell_type": "code",
   "execution_count": 9,
   "id": "ee940e23",
   "metadata": {},
   "outputs": [],
   "source": [
    "soup = BeautifulSoup(page, 'html.parser')"
   ]
  },
  {
   "cell_type": "code",
   "execution_count": 15,
   "id": "71d7d7e8",
   "metadata": {},
   "outputs": [
    {
     "data": {
      "text/plain": [
       "'+0.00099029 BTC'"
      ]
     },
     "execution_count": 15,
     "metadata": {},
     "output_type": "execute_result"
    }
   ],
   "source": [
    "soup.find('div', class_ = \"kad8ah-0 fjudWa\").text\n",
    "#kad8ah-0 fjudWa\n",
    "soup.find('div', class_ = \"kad8ah-0 drlFvR\").text"
   ]
  },
  {
   "cell_type": "code",
   "execution_count": null,
   "id": "78ae5491",
   "metadata": {},
   "outputs": [],
   "source": [
    "css_soup.find_all(\"p\", class_=\"body strikeout\")"
   ]
  }
 ],
 "metadata": {
  "kernelspec": {
   "display_name": "venv",
   "language": "python",
   "name": "venv"
  },
  "language_info": {
   "codemirror_mode": {
    "name": "ipython",
    "version": 3
   },
   "file_extension": ".py",
   "mimetype": "text/x-python",
   "name": "python",
   "nbconvert_exporter": "python",
   "pygments_lexer": "ipython3",
   "version": "3.8.6"
  }
 },
 "nbformat": 4,
 "nbformat_minor": 5
}
