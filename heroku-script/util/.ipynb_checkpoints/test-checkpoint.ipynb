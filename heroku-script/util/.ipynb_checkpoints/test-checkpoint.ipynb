{
 "cells": [
  {
   "cell_type": "code",
   "execution_count": 1,
   "id": "66db9dc7",
   "metadata": {},
   "outputs": [],
   "source": [
    "from database import *\n",
    "from helpers import *\n",
    "from reporter import *\n",
    "import requests\n",
    "import json"
   ]
  },
  {
   "cell_type": "code",
   "execution_count": 2,
   "id": "e9e43c5d",
   "metadata": {},
   "outputs": [],
   "source": [
    "from datetime import timedelta, datetime"
   ]
  },
  {
   "cell_type": "code",
   "execution_count": 70,
   "id": "3b857614",
   "metadata": {},
   "outputs": [],
   "source": [
    "def ceiltime(dt, delta):\n",
    "    return dt + (datetime.min - dt) % delta"
   ]
  },
  {
   "cell_type": "code",
   "execution_count": 71,
   "id": "a7c51c1e",
   "metadata": {},
   "outputs": [],
   "source": [
    "start_delay = 1\n",
    "logr_start_time = datetime.now() + timedelta(seconds=start_delay)\n",
    "\n",
    "# We'll start the news logger when the next minute % 10 == 0 (e.g. XX:10:00, XX:20:00, ...)\n",
    "news_start_time = ceiltime(logr_start_time, timedelta(minutes=5))\n",
    "\n"
   ]
  },
  {
   "cell_type": "code",
   "execution_count": 72,
   "id": "a84836d5",
   "metadata": {},
   "outputs": [
    {
     "data": {
      "text/plain": [
       "datetime.datetime(2021, 7, 29, 12, 6, 51, 241523)"
      ]
     },
     "execution_count": 72,
     "metadata": {},
     "output_type": "execute_result"
    }
   ],
   "source": [
    "logr_start_time"
   ]
  },
  {
   "cell_type": "code",
   "execution_count": 75,
   "id": "be2f0526",
   "metadata": {},
   "outputs": [
    {
     "data": {
      "text/plain": [
       "datetime.timedelta(seconds=188, microseconds=758477)"
      ]
     },
     "execution_count": 75,
     "metadata": {},
     "output_type": "execute_result"
    }
   ],
   "source": [
    "(datetime.min-logr_start_time) % timedelta(minutes=5)"
   ]
  },
  {
   "cell_type": "code",
   "execution_count": 78,
   "id": "0cbf1ec2",
   "metadata": {},
   "outputs": [
    {
     "data": {
      "text/plain": [
       "datetime.timedelta(days=-738000, seconds=42788, microseconds=758477)"
      ]
     },
     "execution_count": 78,
     "metadata": {},
     "output_type": "execute_result"
    }
   ],
   "source": [
    "(datetime.min-logr_start_time)"
   ]
  },
  {
   "cell_type": "code",
   "execution_count": null,
   "id": "88beda07",
   "metadata": {},
   "outputs": [],
   "source": [
    "import pytz\n",
    "pytz.all_timezones"
   ]
  },
  {
   "cell_type": "code",
   "execution_count": 14,
   "id": "e9881c73",
   "metadata": {},
   "outputs": [
    {
     "name": "stdout",
     "output_type": "stream",
     "text": [
      "Connecting to databases... done!\n"
     ]
    }
   ],
   "source": [
    "Database.connect()"
   ]
  },
  {
   "cell_type": "code",
   "execution_count": 1,
   "id": "36dfd235",
   "metadata": {},
   "outputs": [],
   "source": [
    "from reporter import *"
   ]
  },
  {
   "cell_type": "code",
   "execution_count": 2,
   "id": "9e91090d",
   "metadata": {},
   "outputs": [],
   "source": [
    "Reporter.send_report()"
   ]
  },
  {
   "cell_type": "code",
   "execution_count": 60,
   "id": "b3b4eb8e",
   "metadata": {},
   "outputs": [],
   "source": [
    "api_name = 'users'\n",
    "data = Database.rt.child(api_name).get().val()"
   ]
  },
  {
   "cell_type": "code",
   "execution_count": 53,
   "id": "e2970381",
   "metadata": {
    "scrolled": true
   },
   "outputs": [
    {
     "data": {
      "text/plain": [
       "{'name': '-MfGKmEi-PVFvMRj54Qo'}"
      ]
     },
     "execution_count": 53,
     "metadata": {},
     "output_type": "execute_result"
    }
   ],
   "source": [
    "data = {\"name\": \"Mortimer 'Morty' Smith\"}\n",
    "Database.rt.child(\"users\").push(data)"
   ]
  },
  {
   "cell_type": "code",
   "execution_count": 54,
   "id": "6ea0fce7",
   "metadata": {},
   "outputs": [
    {
     "data": {
      "text/plain": [
       "{'name': \"Mortimer 'Morty' Smith\"}"
      ]
     },
     "execution_count": 54,
     "metadata": {},
     "output_type": "execute_result"
    }
   ],
   "source": [
    "data = {\"name\": \"Mortimer 'Morty' Smith\"}\n",
    "Database.rt.child(\"users\").child(\"Morty\").set(data)\n"
   ]
  },
  {
   "cell_type": "code",
   "execution_count": 55,
   "id": "9eb73d8c",
   "metadata": {
    "scrolled": true
   },
   "outputs": [
    {
     "data": {
      "text/plain": [
       "{'name': 'Mortiest Morty'}"
      ]
     },
     "execution_count": 55,
     "metadata": {},
     "output_type": "execute_result"
    }
   ],
   "source": [
    "Database.rt.child(\"users\").child(\"Morty\").update({\"name\": \"Mortiest Morty\"})"
   ]
  },
  {
   "cell_type": "code",
   "execution_count": 29,
   "id": "e82310e4",
   "metadata": {},
   "outputs": [],
   "source": [
    "import gzip\n",
    "import json\n",
    "with gzip.GzipFile(name, \"w\") as outfile:\n",
    "    outfile.write(json.dumps({ 'data' : data }).encode('utf-8'))"
   ]
  },
  {
   "cell_type": "code",
   "execution_count": 46,
   "id": "0c83b4b3",
   "metadata": {},
   "outputs": [],
   "source": [
    "with gzip.GzipFile(name, \"r\") as outfile:\n",
    "    s = json.loads(outfile.read().decode('utf-8'))"
   ]
  },
  {
   "cell_type": "code",
   "execution_count": null,
   "id": "9377d9e9",
   "metadata": {
    "scrolled": true
   },
   "outputs": [],
   "source": [
    "Database.db.child(path).put(name)"
   ]
  },
  {
   "cell_type": "code",
   "execution_count": 61,
   "id": "d453caee",
   "metadata": {},
   "outputs": [],
   "source": [
    "data = Database.rt.child(api_name).get().val()\n",
    "Database.rt.child(api_name).remove()            \n",
    "date = localtime() #if offset is None else localtime() + offset\n",
    "name = date.strftime(\"%Y-%m-%d\") + \"-{}.json\".format(api_name)\n",
    "path = \"{}/{}/{}/{}\".format(api_name, date.year, date.month, name)\n",
    "with gzip.GzipFile(name, \"w\") as outfile:\n",
    "    outfile.write(json.dumps({ 'data' : data }).encode('utf-8'))\n",
    "Database.db.child(path).put(name)\n",
    "os.remove(name)\n",
    "Reporter.append('({}) {} log count: {}'.format(localtime(fmt=True), api_name, len(data) if data else 0))\n",
    "if progress: print(\"Stored {} data!\".format(api_name))"
   ]
  },
  {
   "cell_type": "code",
   "execution_count": 3,
   "id": "cfc608b3",
   "metadata": {},
   "outputs": [],
   "source": [
    "INTERVAL = 5   # Minimum number of minutes that must pass to retrieve news\n",
    "ARTICLES = 5   # Number of articles to gather every INTERVAL minutes between [1, 50]\n",
    "base_url = 'https://cloud.iexapis.com/stable/{}'\n",
    "sand_url = 'https://sandbox.iexapis.com/stable/{}'\n",
    "api_pkey = '?token=' + 'pk_18221745178442aa83406f8a3f877c2e'\n",
    "api_skey = '?token=' + 'sk_a82b032b40ff4f3bb7824074dc9243d5'\n",
    "logrname = 'News'\n",
    "curr_url = base_url\n",
    "progress = True"
   ]
  },
  {
   "cell_type": "code",
   "execution_count": 8,
   "id": "3f789d7d",
   "metadata": {},
   "outputs": [],
   "source": [
    "def _purl(endpoint):\n",
    "    url = curr_url.format(endpoint)\n",
    "    return url + api_pkey\n",
    "\n",
    "def _surl(endpoint):\n",
    "    url = curr_url.format(endpoint)\n",
    "    return url + api_skey\n",
    "\n",
    "def log():\n",
    "    try:\n",
    "        ltime = localtime(fmt=True)\n",
    "        reqst = requests.get(_purl('stock/btcusd/news/last/{}/'.format(ARTICLES)))\n",
    "        items = json.loads(reqst.content)\n",
    "        items = { \"LAtime\" : ltime, \"articles\" : items }\n",
    "        items = Database.rt.child(logrname).push(items)\n",
    "        if progress: print(\"Logged {} data: {}\".format(logrname, items))\n",
    "    except Exception as e:\n",
    "        Reporter.send_urgent(logrname, \"logging\", repr(e))"
   ]
  },
  {
   "cell_type": "code",
   "execution_count": 48,
   "id": "4a5738d5",
   "metadata": {},
   "outputs": [],
   "source": [
    "ltime = localtime(\"Canada/Eastern\", fmt=True)"
   ]
  },
  {
   "cell_type": "code",
   "execution_count": 10,
   "id": "d0752438",
   "metadata": {},
   "outputs": [],
   "source": [
    "reqst = requests.get(_purl('stock/btcusd/news/last/{}/'.format(ARTICLES)))\n",
    "items = json.loads(reqst.content)"
   ]
  },
  {
   "cell_type": "code",
   "execution_count": 31,
   "id": "b129eab1",
   "metadata": {},
   "outputs": [],
   "source": [
    "items = json.loads(reqst.content)"
   ]
  },
  {
   "cell_type": "code",
   "execution_count": null,
   "id": "96a39b16",
   "metadata": {},
   "outputs": [],
   "source": [
    "items"
   ]
  },
  {
   "cell_type": "code",
   "execution_count": 24,
   "id": "1bda7d80",
   "metadata": {},
   "outputs": [],
   "source": [
    "items = { \"LAtime\" : ltime, \"articles\" : items }"
   ]
  },
  {
   "cell_type": "code",
   "execution_count": 32,
   "id": "9e9e1da6",
   "metadata": {},
   "outputs": [],
   "source": [
    "items = Database.rt.child(logrname).push(items)"
   ]
  },
  {
   "cell_type": "code",
   "execution_count": 29,
   "id": "83e8206e",
   "metadata": {},
   "outputs": [],
   "source": [
    "items = Database.rt.child(logrname).push(items)"
   ]
  },
  {
   "cell_type": "code",
   "execution_count": 3,
   "id": "ed4fe7be",
   "metadata": {},
   "outputs": [],
   "source": [
    "base_url = 'https://www.bitstamp.net/api/v2/ticker/btcusd/'\n",
    "logrname = 'Stocks'\n",
    "\n",
    "#base_url = 'https://www.bitstamp.net/api/v2/transactions/btcusd/?time=day'\n",
    "#logrname = 'Transactions'\n",
    "\n",
    "progress = True"
   ]
  },
  {
   "cell_type": "code",
   "execution_count": 8,
   "id": "a1d8c903",
   "metadata": {},
   "outputs": [],
   "source": [
    "index = 1\n",
    "minute_list = [1]*4\n",
    "minute_list[index] = 45000\n",
    "minute_list[index-1] = 44000\n",
    "\n",
    "fifteen_minutes_diff = minute_list[index] - minute_list[index-1]\n",
    "fifteen_minutes_diff_percentage = fifteen_minutes_diff/minute_list[index-1]\n",
    "\n",
    "if fifteen_minutes_diff < 0:\n",
    "    msg = '15 minutes changes: decrese {:2.4f} percentage, 15 minutes ago price {}, current price {}'.format(fifteen_minutes_diff_percentage*100, minute_list[index-1], minute_list[index])\n",
    "    #msg = msg_format\n",
    "    Reporter.price_change_alert(msg)\n",
    "    #print('15 minutes changes: decrese {:2.4f} percentage, 15 minutes ago price {}, current price {}'.format(fifteen_minutes_diff_percentage*100, minute_list[index-1], minute_list[index]))\n",
    "    \n",
    "if fifteen_minutes_diff > 0:\n",
    "    msg = '15 minutes changes: increase {:2.4f} percentage, 15 minutes ago price {}, current price {}'.format(fifteen_minutes_diff_percentage*100, minute_list[index-1], minute_list[index])\n",
    "    Reporter.price_change_alert(msg)\n",
    "    #print('15 minutes changes: increase {:2.4f} percentage, 15 minutes ago price {}, current price {}'.format(fifteen_minutes_diff_percentage*100, minute_list[index-1], minute_list[index]))"
   ]
  },
  {
   "cell_type": "code",
   "execution_count": null,
   "id": "c150a3fa",
   "metadata": {},
   "outputs": [],
   "source": [
    "minute_list = [-1]*4\n",
    "hour_list = [-1]*24\n",
    "\n",
    "import time\n",
    "while(1):\n",
    "    ltime = localtime(fmt=True)\n",
    "    time_obj = localtime()\n",
    "    \n",
    "    reqst = requests.get(base_url)\n",
    "    items = json.loads(reqst.content)\n",
    "    \n",
    "    msg_format = '{} changes: {} {:2.4f} percentage, {} ago price {}, current price {}'\n",
    "    decrease = 'decresse'\n",
    "    increase = 'increase'\n",
    "    \n",
    "    if time_obj.second==0:\n",
    "        if time_obj.minute%15==0:\n",
    "            print('time: ', ltime)\n",
    "            index = int(time_obj.minute/15)\n",
    "            minute_list[index] = float(items['last'])\n",
    "            if minute_list[index-1] != -1:\n",
    "                fifteen_minutes_diff = minute_list[index] - minute_list[index-1]\n",
    "                fifteen_minutes_diff_percentage = fifteen_minutes_diff/minute_list[index-1]\n",
    "                print('fifteen minutes diff: ', fifteen_minutes_diff)\n",
    "                if fifteen_minutes_diff < 0:\n",
    "                    msg = msg_format.format('15 minutes', decrease, fifteen_minutes_diff_percentage*100, '15 minutes', minute_list[index-1], minute_list[index])\n",
    "                    Reporter.price_change_alert(msg)\n",
    "                    #print('15 minutes changes: decrese {:2.4f} percentage, 15 minutes ago price {}, current price {}'.format(fifteen_minutes_diff_percentage*100, minute_list[index-1], minute_list[index]))\n",
    "                    \n",
    "                if fifteen_minutes_diff > 0:\n",
    "                    msg = msg_format.format('15 minutes', increase, fifteen_minutes_diff_percentage*100, '15 minutes', minute_list[index-1], minute_list[index])\n",
    "                    Reporter.price_change_alert(msg)\n",
    "                    #print('15 minutes changes: increase {:2.4f} percentage, 15 minutes ago price {}, current price {}'.format(fifteen_minutes_diff_percentage*100, minute_list[index-1], minute_list[index]))\n",
    "                    \n",
    "        if time_obj.minute==0:\n",
    "            index = time_obj.hour \n",
    "            hour_list[index] = float(items['last'])\n",
    "            if hour_list[index-1] != -1:\n",
    "                one_hour_diff = hour_list[index] - hour_list[index-1]\n",
    "                one_hour_diff_percentage = one_hour_diff/hour_list[index-1]\n",
    "                print('one hour diff: ', one_hour_diff)\n",
    "                if one_hour_diff < 0:\n",
    "                    msg = msg_format.format('One hour', decrease, one_hour_diff_percentage*100, 'One hour', hour_list[index-1], hour_list[index])\n",
    "                    Reporter.price_change_alert(msg)\n",
    "                    #print('one hour changes: decrese {:2.4f} percentage, one hour ago price {}, current price {}'.format(one_hour_diff_percentage*100, hour_list[index-1], hour_list[index]))\n",
    "                    \n",
    "                if one_hour_diff > 0:\n",
    "                    msg = msg_format.format('One hour', increase, one_hour_diff_percentage*100, 'One hour', hour_list[index-1], hour_list[index])\n",
    "                    Reporter.price_change_alert(msg)\n",
    "                    #print('one hour changes: increase {:2.4f} percentage, one hour ago price {}, current price {}'.format(one_hour_diff_percentage*100, hour_list[index-1], hour_list[index]))\n",
    "                    \n",
    "            if index%4==0 and hour_list[index-4]!=-1:\n",
    "                four_hours_diff = hour_list[index] - hour_list[index-4]\n",
    "                four_hours_diff_percentage = four_hours_diff/hour_list[index-4]\n",
    "                print('four hours diff: ', four_hours_diff)\n",
    "                if four_hours_diff < 0:\n",
    "                    msg = msg_format.format('Four hours', decrease, four_hours_diff_percentage*100, 'Four hours', hour_list[index-1], hour_list[index])\n",
    "                    #print('four hours changes: decrese {:2.4f} percentage, four hours ago price {}, current price {}'.format(four_hours_diff_percentage*100, hour_list[index-1], hour_list[index]))\n",
    "                    \n",
    "                if four_hours_diff > 0:\n",
    "                    msg = msg_format.format('Four hours', increase, four_hours_diff_percentage*100, 'Four hours', hour_list[index-1], hour_list[index])\n",
    "                    Reporter.price_change_alert(msg)\n",
    "                    #print('four hours changes: increase {:2.4f} percentage, four hours ago price {}, current price {}'.format(four_hours_diff_percentage*100, hour_list[index-1], hour_list[index]))\n",
    "    time.sleep(1)"
   ]
  },
  {
   "cell_type": "code",
   "execution_count": 36,
   "id": "4456f516",
   "metadata": {},
   "outputs": [
    {
     "data": {
      "text/plain": [
       "int"
      ]
     },
     "execution_count": 36,
     "metadata": {},
     "output_type": "execute_result"
    }
   ],
   "source": [
    "ltime.hour\n",
    "ltime.minute\n",
    "type(ltime.second)"
   ]
  },
  {
   "cell_type": "code",
   "execution_count": 27,
   "id": "60bd315f",
   "metadata": {},
   "outputs": [
    {
     "data": {
      "text/plain": [
       "12982"
      ]
     },
     "execution_count": 27,
     "metadata": {},
     "output_type": "execute_result"
    }
   ],
   "source": [
    "ltime.microsecond"
   ]
  },
  {
   "cell_type": "code",
   "execution_count": null,
   "id": "1844257f",
   "metadata": {},
   "outputs": [],
   "source": [
    "from datetime import datetime\n",
    "str(datetime.edcnow())"
   ]
  },
  {
   "cell_type": "code",
   "execution_count": null,
   "id": "9bf18995",
   "metadata": {},
   "outputs": [],
   "source": [
    "ltime = localtime(fmt=True)\n",
    "reqst = requests.get(base_url)\n",
    "items = json.loads(reqst.content)\n",
    "\n",
    "items"
   ]
  },
  {
   "cell_type": "code",
   "execution_count": null,
   "id": "5b09c758",
   "metadata": {},
   "outputs": [],
   "source": [
    "items[\"LAtime\"] = ltime\n",
    "items = Database.rt.child(TckrLogger.logrname).push(items)\n",
    "if TckrLogger.progress: print(\"Logged {} data: {}\".format(TckrLogger.logrname, items))"
   ]
  }
 ],
 "metadata": {
  "kernelspec": {
   "display_name": "venv",
   "language": "python",
   "name": "venv"
  },
  "language_info": {
   "codemirror_mode": {
    "name": "ipython",
    "version": 3
   },
   "file_extension": ".py",
   "mimetype": "text/x-python",
   "name": "python",
   "nbconvert_exporter": "python",
   "pygments_lexer": "ipython3",
   "version": "3.8.6"
  }
 },
 "nbformat": 4,
 "nbformat_minor": 5
}
